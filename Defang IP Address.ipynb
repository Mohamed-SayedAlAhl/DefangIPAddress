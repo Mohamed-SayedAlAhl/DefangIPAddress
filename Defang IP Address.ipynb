{
 "cells": [
  {
   "cell_type": "code",
   "execution_count": 1,
   "id": "81f7787b",
   "metadata": {},
   "outputs": [],
   "source": [
    "def ip_address(address):\n",
    "    \"\"\"\n",
    "    Defang an IP address by replacing dots with square brackets and dots.\n",
    "    \n",
    "    Args:\n",
    "    - address (str): The IP address to be defanged.\n",
    "    \n",
    "    Returns:\n",
    "    - str: The defanged IP address.\n",
    "    \n",
    "    Example:\n",
    "    >>> ip_address(\"192.168.1.1\")\n",
    "    \"192[.]168[.]1[.]1\"\n",
    "    \"\"\"\n",
    "    new_address = \"\"\n",
    "    split_address = address.split(\".\")\n",
    "    new_seperator = \"[.]\"\n",
    "    new_address = new_seperator.join(split_address)\n",
    "    return new_address\n",
    "    "
   ]
  },
  {
   "cell_type": "code",
   "execution_count": 2,
   "id": "ef73b0c6",
   "metadata": {},
   "outputs": [
    {
     "name": "stdout",
     "output_type": "stream",
     "text": [
      " Defang IP is: 197[.]12[.]15[.]3\n"
     ]
    }
   ],
   "source": [
    "# Defang an IP address using the ip_address function\n",
    "ipaddress=ip_address(\"197.12.15.3\")\n",
    "print(f\" Defang IP is: {ipaddress}\")"
   ]
  }
 ],
 "metadata": {
  "kernelspec": {
   "display_name": "mywork",
   "language": "python",
   "name": "mywork"
  },
  "language_info": {
   "codemirror_mode": {
    "name": "ipython",
    "version": 3
   },
   "file_extension": ".py",
   "mimetype": "text/x-python",
   "name": "python",
   "nbconvert_exporter": "python",
   "pygments_lexer": "ipython3",
   "version": "3.10.8"
  }
 },
 "nbformat": 4,
 "nbformat_minor": 5
}
